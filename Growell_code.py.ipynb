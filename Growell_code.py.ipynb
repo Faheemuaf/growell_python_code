{
 "cells": [
  {
   "cell_type": "code",
   "execution_count": 7,
   "metadata": {},
   "outputs": [
    {
     "ename": "SyntaxError",
     "evalue": "invalid syntax (<ipython-input-7-ce59eca6e52a>, line 28)",
     "output_type": "error",
     "traceback": [
      "\u001b[0;36m  File \u001b[0;32m\"<ipython-input-7-ce59eca6e52a>\"\u001b[0;36m, line \u001b[0;32m28\u001b[0m\n\u001b[0;31m    beach_balls_data = df.to_csv('growell_data.csv', index=False)\u001b[0m\n\u001b[0m                   ^\u001b[0m\n\u001b[0;31mSyntaxError\u001b[0m\u001b[0;31m:\u001b[0m invalid syntax\n"
     ]
    }
   ],
   "source": [
    "from selenium import webdriver\n",
    "from selenium.common import exceptions\n",
    "import pandas as pd \n",
    "# path of the driver in which it is installed.\n",
    "browser = webdriver.Chrome('/home/faheem/Documents/workspace/scrapping/chromedriver_linux64/chromedriver')\n",
    "browser.get('https://www.growell.co.uk/grow-tents-sheeting.html?limit=30&mode=grid')\n",
    "beach_balls = browser.find_elements_by_css_selector('ul.products-grid.products-grid--max-4-col.first.last.odd>li')\n",
    "#print(type(beach_balls))\n",
    "Name = []\n",
    "Price = []\n",
    "#url = []\n",
    "i = 1\n",
    "while i < 74:\n",
    "    try:\n",
    "        beach_balls = browser.find_elements_by_css_selector('ul.products-grid.products-grid--max-4-col.first.last.odd>li')\n",
    "        for ball in beach_balls:\n",
    "           Name.append(ball.find_element_by_css_selector('h2.product-name>a').text)\n",
    "           Price.append(ball.find_element_by_css_selector('span.price').text)\n",
    "           #url.append(ball.find_element_by_css_selector('div.onsale-category-container-grid>a[href]'))\n",
    "\n",
    "        browser.find_elements_by_css_selector('a.next.i-next')\n",
    "        i += 1\n",
    "    except exceptions.StaleElementReferenceException:\n",
    "         pass\n",
    "df = pd.DataFrame(list(zip(Name, Price)), columns=['Product Name', 'Product Price'])\n",
    "beach_balls_data = df.to_csv('growell_data.csv', index=False)"
   ]
  },
  {
   "cell_type": "code",
   "execution_count": null,
   "metadata": {},
   "outputs": [],
   "source": []
  }
 ],
 "metadata": {
  "kernelspec": {
   "display_name": "Python 3",
   "language": "python",
   "name": "python3"
  },
  "language_info": {
   "codemirror_mode": {
    "name": "ipython",
    "version": 3
   },
   "file_extension": ".py",
   "mimetype": "text/x-python",
   "name": "python",
   "nbconvert_exporter": "python",
   "pygments_lexer": "ipython3",
   "version": "3.6.8"
  }
 },
 "nbformat": 4,
 "nbformat_minor": 2
}
